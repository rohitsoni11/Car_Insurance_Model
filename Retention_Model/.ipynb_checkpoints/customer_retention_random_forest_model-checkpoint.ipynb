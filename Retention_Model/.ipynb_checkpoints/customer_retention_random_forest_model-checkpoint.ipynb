{
 "cells": [
  {
   "cell_type": "markdown",
   "metadata": {},
   "source": [
    "---\n",
    "\n",
    "_You are currently looking at **version 1.0** of this notebook. To download notebooks and datafiles, as well as get help on Jupyter notebooks in the Coursera platform, visit the [Jupyter Notebook FAQ](https://www.coursera.org/learn/python-machine-learning/resources/bANLa) course resource._\n",
    "\n",
    "---"
   ]
  },
  {
   "cell_type": "markdown",
   "metadata": {},
   "source": [
    "### Import required modules and load data file"
   ]
  },
  {
   "cell_type": "code",
   "execution_count": 58,
   "metadata": {
    "collapsed": true
   },
   "outputs": [],
   "source": [
    "%matplotlib notebook\n",
    "import numpy as np\n",
    "import matplotlib.pyplot as plt\n",
    "import pandas as pd\n",
    "from sklearn.ensemble import RandomForestRegressor\n",
    "from sklearn.model_selection import train_test_split\n",
    "import seaborn as sns\n",
    "sns.set_style(\"darkgrid\")\n",
    "%matplotlib inline\n",
    "\n",
    "retention_df = pd.read_csv('./data/retention/insurance_cust_retention.csv')"
   ]
  },
  {
   "cell_type": "code",
   "execution_count": 59,
   "metadata": {
    "collapsed": false
   },
   "outputs": [
    {
     "data": {
      "text/html": [
       "<div>\n",
       "<style scoped>\n",
       "    .dataframe tbody tr th:only-of-type {\n",
       "        vertical-align: middle;\n",
       "    }\n",
       "\n",
       "    .dataframe tbody tr th {\n",
       "        vertical-align: top;\n",
       "    }\n",
       "\n",
       "    .dataframe thead th {\n",
       "        text-align: right;\n",
       "    }\n",
       "</style>\n",
       "<table border=\"1\" class=\"dataframe\">\n",
       "  <thead>\n",
       "    <tr style=\"text-align: right;\">\n",
       "      <th></th>\n",
       "      <th>Marital Status</th>\n",
       "      <th>AGE</th>\n",
       "      <th>Gender</th>\n",
       "      <th>Car Value</th>\n",
       "      <th>Years of No Claims Bonus</th>\n",
       "      <th>Annual Mileage</th>\n",
       "      <th>Payment Method</th>\n",
       "      <th>Acquisition Channel</th>\n",
       "      <th>Years of Tenure with Current Provider</th>\n",
       "      <th>Price</th>\n",
       "      <th>Actual Change in Price vs last Year</th>\n",
       "      <th>% Change in Price vs last Year</th>\n",
       "      <th>Grouped Change in Price</th>\n",
       "      <th>Renewed?</th>\n",
       "    </tr>\n",
       "  </thead>\n",
       "  <tbody>\n",
       "    <tr>\n",
       "      <th>0</th>\n",
       "      <td>M</td>\n",
       "      <td>45</td>\n",
       "      <td>F</td>\n",
       "      <td>500</td>\n",
       "      <td>4</td>\n",
       "      <td>6000</td>\n",
       "      <td>Monthly</td>\n",
       "      <td>Inbound</td>\n",
       "      <td>4</td>\n",
       "      <td>289.4</td>\n",
       "      <td>-11.94</td>\n",
       "      <td>-3.96%</td>\n",
       "      <td>-0.05</td>\n",
       "      <td>0</td>\n",
       "    </tr>\n",
       "    <tr>\n",
       "      <th>1</th>\n",
       "      <td>M</td>\n",
       "      <td>40</td>\n",
       "      <td>M</td>\n",
       "      <td>3000</td>\n",
       "      <td>8</td>\n",
       "      <td>6000</td>\n",
       "      <td>Monthly</td>\n",
       "      <td>Inbound</td>\n",
       "      <td>4</td>\n",
       "      <td>170.4</td>\n",
       "      <td>45.62</td>\n",
       "      <td>37%</td>\n",
       "      <td>0.35</td>\n",
       "      <td>1</td>\n",
       "    </tr>\n",
       "    <tr>\n",
       "      <th>2</th>\n",
       "      <td>S</td>\n",
       "      <td>25</td>\n",
       "      <td>F</td>\n",
       "      <td>4000</td>\n",
       "      <td>4</td>\n",
       "      <td>4000</td>\n",
       "      <td>Monthly</td>\n",
       "      <td>Inbound</td>\n",
       "      <td>4</td>\n",
       "      <td>466.1</td>\n",
       "      <td>-123.15</td>\n",
       "      <td>-21%</td>\n",
       "      <td>-0.2</td>\n",
       "      <td>1</td>\n",
       "    </tr>\n",
       "    <tr>\n",
       "      <th>3</th>\n",
       "      <td>M</td>\n",
       "      <td>42</td>\n",
       "      <td>M</td>\n",
       "      <td>1800</td>\n",
       "      <td>9</td>\n",
       "      <td>10000</td>\n",
       "      <td>Annual</td>\n",
       "      <td>Inbound</td>\n",
       "      <td>4</td>\n",
       "      <td>245.1</td>\n",
       "      <td>2.34</td>\n",
       "      <td>1%</td>\n",
       "      <td>0</td>\n",
       "      <td>1</td>\n",
       "    </tr>\n",
       "    <tr>\n",
       "      <th>4</th>\n",
       "      <td>M</td>\n",
       "      <td>59</td>\n",
       "      <td>M</td>\n",
       "      <td>5000</td>\n",
       "      <td>9</td>\n",
       "      <td>3000</td>\n",
       "      <td>Annual</td>\n",
       "      <td>Inbound</td>\n",
       "      <td>4</td>\n",
       "      <td>240.5</td>\n",
       "      <td>42.56</td>\n",
       "      <td>22%</td>\n",
       "      <td>0.2</td>\n",
       "      <td>0</td>\n",
       "    </tr>\n",
       "  </tbody>\n",
       "</table>\n",
       "</div>"
      ],
      "text/plain": [
       "  Marital Status  AGE Gender  Car Value  Years of No Claims Bonus  \\\n",
       "0              M   45      F        500                         4   \n",
       "1              M   40      M       3000                         8   \n",
       "2              S   25      F       4000                         4   \n",
       "3              M   42      M       1800                         9   \n",
       "4              M   59      M       5000                         9   \n",
       "\n",
       "   Annual Mileage Payment Method Acquisition Channel  \\\n",
       "0            6000        Monthly             Inbound   \n",
       "1            6000        Monthly             Inbound   \n",
       "2            4000        Monthly             Inbound   \n",
       "3           10000         Annual             Inbound   \n",
       "4            3000         Annual             Inbound   \n",
       "\n",
       "   Years of Tenure with Current Provider  Price  \\\n",
       "0                                      4  289.4   \n",
       "1                                      4  170.4   \n",
       "2                                      4  466.1   \n",
       "3                                      4  245.1   \n",
       "4                                      4  240.5   \n",
       "\n",
       "  Actual Change in Price vs last Year % Change in Price vs last Year  \\\n",
       "0                              -11.94                         -3.96%   \n",
       "1                               45.62                            37%   \n",
       "2                             -123.15                           -21%   \n",
       "3                                2.34                             1%   \n",
       "4                               42.56                            22%   \n",
       "\n",
       "  Grouped Change in Price  Renewed?  \n",
       "0                   -0.05         0  \n",
       "1                    0.35         1  \n",
       "2                    -0.2         1  \n",
       "3                       0         1  \n",
       "4                     0.2         0  "
      ]
     },
     "execution_count": 59,
     "metadata": {},
     "output_type": "execute_result"
    }
   ],
   "source": [
    "retention_df.head()"
   ]
  },
  {
   "cell_type": "code",
   "execution_count": 60,
   "metadata": {},
   "outputs": [
    {
     "name": "stdout",
     "output_type": "stream",
     "text": [
      "<class 'pandas.core.frame.DataFrame'>\n",
      "RangeIndex: 20020 entries, 0 to 20019\n",
      "Data columns (total 14 columns):\n",
      "Marital Status                           20020 non-null object\n",
      "AGE                                      20020 non-null int64\n",
      "Gender                                   20020 non-null object\n",
      "Car Value                                20020 non-null int64\n",
      "Years of No Claims Bonus                 20020 non-null int64\n",
      "Annual Mileage                           20020 non-null int64\n",
      "Payment Method                           20020 non-null object\n",
      "Acquisition Channel                      20020 non-null object\n",
      "Years of Tenure with Current Provider    20020 non-null int64\n",
      "Price                                    20017 non-null float64\n",
      "Actual Change in Price vs last Year      20020 non-null object\n",
      "% Change in Price vs last Year           20020 non-null object\n",
      "Grouped Change in Price                  20020 non-null object\n",
      "Renewed?                                 20020 non-null int64\n",
      "dtypes: float64(1), int64(6), object(7)\n",
      "memory usage: 2.1+ MB\n"
     ]
    }
   ],
   "source": [
    "retention_df.info()"
   ]
  },
  {
   "cell_type": "markdown",
   "metadata": {},
   "source": [
    "## Data Cleanup"
   ]
  },
  {
   "cell_type": "markdown",
   "metadata": {},
   "source": [
    "### Find Duplicate Columns (if any):"
   ]
  },
  {
   "cell_type": "code",
   "execution_count": 61,
   "metadata": {},
   "outputs": [
    {
     "name": "stdout",
     "output_type": "stream",
     "text": [
      "Marital Status is duplicate: False\n",
      "AGE is duplicate: False\n",
      "Gender is duplicate: False\n",
      "Car Value is duplicate: False\n",
      "Years of No Claims Bonus is duplicate: False\n",
      "Annual Mileage is duplicate: False\n",
      "Payment Method is duplicate: False\n",
      "Acquisition Channel is duplicate: False\n",
      "Years of Tenure with Current Provider is duplicate: False\n",
      "Price is duplicate: False\n",
      "Actual Change in Price vs last Year is duplicate: False\n",
      "% Change in Price vs last Year is duplicate: False\n",
      "Grouped Change in Price is duplicate: False\n",
      "Renewed? is duplicate: False\n"
     ]
    }
   ],
   "source": [
    "# Get column names\n",
    "column_names = retention_df.columns\n",
    "# print(column_names)\n",
    "# Get column data types\n",
    "retention_df.dtypes\n",
    "\n",
    "# Also check if the column is unique\n",
    "for i in column_names:\n",
    "  print('{} is duplicate: {}'.format(i, retention_df[i].is_unique))"
   ]
  },
  {
   "cell_type": "markdown",
   "metadata": {},
   "source": [
    "### Find Missing Values (if any):"
   ]
  },
  {
   "cell_type": "code",
   "execution_count": 62,
   "metadata": {},
   "outputs": [
    {
     "data": {
      "text/plain": [
       "Marital Status                           0\n",
       "AGE                                      0\n",
       "Gender                                   0\n",
       "Car Value                                0\n",
       "Years of No Claims Bonus                 0\n",
       "Annual Mileage                           0\n",
       "Payment Method                           0\n",
       "Acquisition Channel                      0\n",
       "Years of Tenure with Current Provider    0\n",
       "Price                                    3\n",
       "Actual Change in Price vs last Year      0\n",
       "% Change in Price vs last Year           0\n",
       "Grouped Change in Price                  0\n",
       "Renewed?                                 0\n",
       "dtype: int64"
      ]
     },
     "execution_count": 62,
     "metadata": {},
     "output_type": "execute_result"
    }
   ],
   "source": [
    "retention_df.isnull().sum()"
   ]
  },
  {
   "cell_type": "markdown",
   "metadata": {},
   "source": [
    "### Removing the Rows with Missing Values"
   ]
  },
  {
   "cell_type": "code",
   "execution_count": 63,
   "metadata": {},
   "outputs": [
    {
     "data": {
      "text/plain": [
       "Marital Status                           0\n",
       "AGE                                      0\n",
       "Gender                                   0\n",
       "Car Value                                0\n",
       "Years of No Claims Bonus                 0\n",
       "Annual Mileage                           0\n",
       "Payment Method                           0\n",
       "Acquisition Channel                      0\n",
       "Years of Tenure with Current Provider    0\n",
       "Price                                    0\n",
       "Actual Change in Price vs last Year      0\n",
       "% Change in Price vs last Year           0\n",
       "Grouped Change in Price                  0\n",
       "Renewed?                                 0\n",
       "dtype: int64"
      ]
     },
     "execution_count": 63,
     "metadata": {},
     "output_type": "execute_result"
    }
   ],
   "source": [
    "retention_df = retention_df.dropna(how='any',axis=0)\n",
    "retention_df.isnull().sum()"
   ]
  },
  {
   "cell_type": "markdown",
   "metadata": {},
   "source": [
    "### Finding the Relevance of Features"
   ]
  },
  {
   "cell_type": "markdown",
   "metadata": {},
   "source": [
    "### Examining the data"
   ]
  },
  {
   "cell_type": "code",
   "execution_count": 64,
   "metadata": {},
   "outputs": [],
   "source": [
    "# retention_df = pd.concat([retention_df, pd.get_dummies(retention_df['Marital Status'], prefix='Marital Status')], axis=1)\n",
    "# retention_df = pd.concat([retention_df, pd.get_dummies(retention_df['Gender'], prefix='Gender')], axis=1)\n",
    "# retention_df = pd.concat([retention_df, pd.get_dummies(retention_df['Payment Method'], prefix='Payment Method')], axis=1)\n",
    "# retention_df = pd.concat([retention_df, pd.get_dummies(retention_df['Acquisition Channel'], prefix='Acquisition Channel')], axis=1)"
   ]
  },
  {
   "cell_type": "code",
   "execution_count": 65,
   "metadata": {},
   "outputs": [],
   "source": [
    "retention_df['Actual Change in Price vs last Year'] = pd.to_numeric(retention_df['Actual Change in Price vs last Year'])\n",
    "retention_df['% Change in Price vs last Year'] = retention_df['% Change in Price vs last Year'].str.rstrip('%').astype('float') / 100.0\n",
    "retention_df['Grouped Change in Price'] = pd.to_numeric(retention_df['Grouped Change in Price'])"
   ]
  },
  {
   "cell_type": "code",
   "execution_count": 66,
   "metadata": {},
   "outputs": [
    {
     "data": {
      "text/html": [
       "<div>\n",
       "<style scoped>\n",
       "    .dataframe tbody tr th:only-of-type {\n",
       "        vertical-align: middle;\n",
       "    }\n",
       "\n",
       "    .dataframe tbody tr th {\n",
       "        vertical-align: top;\n",
       "    }\n",
       "\n",
       "    .dataframe thead th {\n",
       "        text-align: right;\n",
       "    }\n",
       "</style>\n",
       "<table border=\"1\" class=\"dataframe\">\n",
       "  <thead>\n",
       "    <tr style=\"text-align: right;\">\n",
       "      <th></th>\n",
       "      <th>Marital Status</th>\n",
       "      <th>AGE</th>\n",
       "      <th>Gender</th>\n",
       "      <th>Car Value</th>\n",
       "      <th>Years of No Claims Bonus</th>\n",
       "      <th>Annual Mileage</th>\n",
       "      <th>Payment Method</th>\n",
       "      <th>Acquisition Channel</th>\n",
       "      <th>Years of Tenure with Current Provider</th>\n",
       "      <th>Price</th>\n",
       "      <th>Actual Change in Price vs last Year</th>\n",
       "      <th>% Change in Price vs last Year</th>\n",
       "      <th>Grouped Change in Price</th>\n",
       "      <th>Renewed?</th>\n",
       "    </tr>\n",
       "  </thead>\n",
       "  <tbody>\n",
       "    <tr>\n",
       "      <th>0</th>\n",
       "      <td>M</td>\n",
       "      <td>45</td>\n",
       "      <td>F</td>\n",
       "      <td>500</td>\n",
       "      <td>4</td>\n",
       "      <td>6000</td>\n",
       "      <td>Monthly</td>\n",
       "      <td>Inbound</td>\n",
       "      <td>4</td>\n",
       "      <td>289.4</td>\n",
       "      <td>-11.94</td>\n",
       "      <td>-0.0396</td>\n",
       "      <td>-0.05</td>\n",
       "      <td>0</td>\n",
       "    </tr>\n",
       "    <tr>\n",
       "      <th>1</th>\n",
       "      <td>M</td>\n",
       "      <td>40</td>\n",
       "      <td>M</td>\n",
       "      <td>3000</td>\n",
       "      <td>8</td>\n",
       "      <td>6000</td>\n",
       "      <td>Monthly</td>\n",
       "      <td>Inbound</td>\n",
       "      <td>4</td>\n",
       "      <td>170.4</td>\n",
       "      <td>45.62</td>\n",
       "      <td>0.3700</td>\n",
       "      <td>0.35</td>\n",
       "      <td>1</td>\n",
       "    </tr>\n",
       "    <tr>\n",
       "      <th>2</th>\n",
       "      <td>S</td>\n",
       "      <td>25</td>\n",
       "      <td>F</td>\n",
       "      <td>4000</td>\n",
       "      <td>4</td>\n",
       "      <td>4000</td>\n",
       "      <td>Monthly</td>\n",
       "      <td>Inbound</td>\n",
       "      <td>4</td>\n",
       "      <td>466.1</td>\n",
       "      <td>-123.15</td>\n",
       "      <td>-0.2100</td>\n",
       "      <td>-0.20</td>\n",
       "      <td>1</td>\n",
       "    </tr>\n",
       "    <tr>\n",
       "      <th>3</th>\n",
       "      <td>M</td>\n",
       "      <td>42</td>\n",
       "      <td>M</td>\n",
       "      <td>1800</td>\n",
       "      <td>9</td>\n",
       "      <td>10000</td>\n",
       "      <td>Annual</td>\n",
       "      <td>Inbound</td>\n",
       "      <td>4</td>\n",
       "      <td>245.1</td>\n",
       "      <td>2.34</td>\n",
       "      <td>0.0100</td>\n",
       "      <td>0.00</td>\n",
       "      <td>1</td>\n",
       "    </tr>\n",
       "    <tr>\n",
       "      <th>4</th>\n",
       "      <td>M</td>\n",
       "      <td>59</td>\n",
       "      <td>M</td>\n",
       "      <td>5000</td>\n",
       "      <td>9</td>\n",
       "      <td>3000</td>\n",
       "      <td>Annual</td>\n",
       "      <td>Inbound</td>\n",
       "      <td>4</td>\n",
       "      <td>240.5</td>\n",
       "      <td>42.56</td>\n",
       "      <td>0.2200</td>\n",
       "      <td>0.20</td>\n",
       "      <td>0</td>\n",
       "    </tr>\n",
       "  </tbody>\n",
       "</table>\n",
       "</div>"
      ],
      "text/plain": [
       "  Marital Status  AGE Gender  Car Value  Years of No Claims Bonus  \\\n",
       "0              M   45      F        500                         4   \n",
       "1              M   40      M       3000                         8   \n",
       "2              S   25      F       4000                         4   \n",
       "3              M   42      M       1800                         9   \n",
       "4              M   59      M       5000                         9   \n",
       "\n",
       "   Annual Mileage Payment Method Acquisition Channel  \\\n",
       "0            6000        Monthly             Inbound   \n",
       "1            6000        Monthly             Inbound   \n",
       "2            4000        Monthly             Inbound   \n",
       "3           10000         Annual             Inbound   \n",
       "4            3000         Annual             Inbound   \n",
       "\n",
       "   Years of Tenure with Current Provider  Price  \\\n",
       "0                                      4  289.4   \n",
       "1                                      4  170.4   \n",
       "2                                      4  466.1   \n",
       "3                                      4  245.1   \n",
       "4                                      4  240.5   \n",
       "\n",
       "   Actual Change in Price vs last Year  % Change in Price vs last Year  \\\n",
       "0                               -11.94                         -0.0396   \n",
       "1                                45.62                          0.3700   \n",
       "2                              -123.15                         -0.2100   \n",
       "3                                 2.34                          0.0100   \n",
       "4                                42.56                          0.2200   \n",
       "\n",
       "   Grouped Change in Price  Renewed?  \n",
       "0                    -0.05         0  \n",
       "1                     0.35         1  \n",
       "2                    -0.20         1  \n",
       "3                     0.00         1  \n",
       "4                     0.20         0  "
      ]
     },
     "execution_count": 66,
     "metadata": {},
     "output_type": "execute_result"
    }
   ],
   "source": [
    "retention_df.head()"
   ]
  },
  {
   "cell_type": "markdown",
   "metadata": {},
   "source": [
    "### Create train-test split"
   ]
  },
  {
   "cell_type": "code",
   "execution_count": 67,
   "metadata": {
    "collapsed": true
   },
   "outputs": [],
   "source": [
    "from sklearn import preprocessing\n",
    "\n",
    "# We use the most significant features to train the model\n",
    "# X = retention_df.drop(columns=['Marital Status', 'AGE', 'Gender', 'Annual Mileage', 'Payment Method', 'Acquisition Channel', 'Years of Tenure with Current Provider', 'Renewed?'])\n",
    "X = retention_df.drop(columns=['Grouped Change in Price', '% Change in Price vs last Year', 'Car Value', 'Renewed?'])\n",
    "# X = retention_df.drop(columns=['Marital Status', 'Gender', 'Years of No Claims Bonus', 'Annual Mileage', 'Payment Method', 'Acquisition Channel', 'Years of Tenure with Current Provider', '% Change in Price vs last Year', 'Renewed?'])\n",
    "y = retention_df['Renewed?']\n",
    "\n",
    "\n",
    "# Normalize the data attributes\n",
    "normalized_X = preprocessing.normalize(X)\n",
    "\n",
    "# default is 75% / 25% train-test split\n",
    "X_train, X_test, y_train, y_test = train_test_split(normalized_X, y, test_size=0.2, random_state=0)\n"
   ]
  },
  {
   "cell_type": "markdown",
   "metadata": {},
   "source": [
    "### Create classifier object"
   ]
  },
  {
   "cell_type": "code",
   "execution_count": 68,
   "metadata": {},
   "outputs": [],
   "source": [
    "#Import Random Forest Model\n",
    "from sklearn.ensemble import RandomForestClassifier\n",
    "\n",
    "#Create a Gaussian Classifier\n",
    "clf=RandomForestClassifier(n_estimators=100)\n",
    "\n",
    "#Train the model using the training sets y_pred=clf.predict(X_test)\n",
    "clf.fit(X_train,y_train)\n",
    "\n",
    "y_pred=clf.predict(X_test)"
   ]
  },
  {
   "cell_type": "code",
   "execution_count": 57,
   "metadata": {},
   "outputs": [
    {
     "data": {
      "text/plain": [
       "Actual Change in Price vs last Year      0.137913\n",
       "AGE                                      0.122850\n",
       "Years of No Claims Bonus                 0.118567\n",
       "Price                                    0.117608\n",
       "Years of Tenure with Current Provider    0.117099\n",
       "Annual Mileage                           0.101096\n",
       "Car Value                                0.100934\n",
       "% Change in Price vs last Year           0.098632\n",
       "Grouped Change in Price                  0.085301\n",
       "dtype: float64"
      ]
     },
     "execution_count": 57,
     "metadata": {},
     "output_type": "execute_result"
    }
   ],
   "source": [
    "import pandas as pd\n",
    "feature_imp = pd.Series(clf.feature_importances_,index=['AGE', 'Car Value', 'Years of No Claims Bonus', 'Annual Mileage', 'Years of Tenure with Current Provider', 'Price', 'Actual Change in Price vs last Year', '% Change in Price vs last Year', 'Grouped Change in Price']).sort_values(ascending=False)\n",
    "feature_imp"
   ]
  },
  {
   "cell_type": "markdown",
   "metadata": {},
   "source": [
    "### After training, checking the accuracy using actual and predicted values."
   ]
  },
  {
   "cell_type": "code",
   "execution_count": 69,
   "metadata": {
    "collapsed": true
   },
   "outputs": [
    {
     "name": "stdout",
     "output_type": "stream",
     "text": [
      "Accuracy: 0.6258741258741258\n"
     ]
    }
   ],
   "source": [
    "#Import scikit-learn metrics module for accuracy calculation\n",
    "from sklearn import metrics\n",
    "# Model Accuracy, how often is the classifier correct?\n",
    "print(\"Accuracy:\",metrics.accuracy_score(y_test, y_pred))"
   ]
  },
  {
   "cell_type": "code",
   "execution_count": 70,
   "metadata": {},
   "outputs": [
    {
     "ename": "ValueError",
     "evalue": "Neither the `x` nor `y` variable appears to be numeric.",
     "output_type": "error",
     "traceback": [
      "\u001b[0;31m---------------------------------------------------------------------------\u001b[0m",
      "\u001b[0;31mValueError\u001b[0m                                Traceback (most recent call last)",
      "\u001b[0;32m<ipython-input-70-6437384a3266>\u001b[0m in \u001b[0;36m<module>\u001b[0;34m\u001b[0m\n\u001b[1;32m      3\u001b[0m \u001b[0mget_ipython\u001b[0m\u001b[0;34m(\u001b[0m\u001b[0;34m)\u001b[0m\u001b[0;34m.\u001b[0m\u001b[0mrun_line_magic\u001b[0m\u001b[0;34m(\u001b[0m\u001b[0;34m'matplotlib'\u001b[0m\u001b[0;34m,\u001b[0m \u001b[0;34m'inline'\u001b[0m\u001b[0;34m)\u001b[0m\u001b[0;34m\u001b[0m\u001b[0;34m\u001b[0m\u001b[0m\n\u001b[1;32m      4\u001b[0m \u001b[0;31m# Creating a bar plot\u001b[0m\u001b[0;34m\u001b[0m\u001b[0;34m\u001b[0m\u001b[0;34m\u001b[0m\u001b[0m\n\u001b[0;32m----> 5\u001b[0;31m \u001b[0msns\u001b[0m\u001b[0;34m.\u001b[0m\u001b[0mbarplot\u001b[0m\u001b[0;34m(\u001b[0m\u001b[0mx\u001b[0m\u001b[0;34m=\u001b[0m\u001b[0;34m[\u001b[0m\u001b[0;34m'Marital Status'\u001b[0m\u001b[0;34m,\u001b[0m \u001b[0;34m'Gender'\u001b[0m\u001b[0;34m,\u001b[0m \u001b[0;34m'Payment Method'\u001b[0m\u001b[0;34m,\u001b[0m \u001b[0;34m'Acquisition Channel'\u001b[0m\u001b[0;34m]\u001b[0m\u001b[0;34m,\u001b[0m \u001b[0my\u001b[0m\u001b[0;34m=\u001b[0m\u001b[0mfeature_imp\u001b[0m\u001b[0;34m.\u001b[0m\u001b[0mindex\u001b[0m\u001b[0;34m)\u001b[0m\u001b[0;34m\u001b[0m\u001b[0;34m\u001b[0m\u001b[0m\n\u001b[0m\u001b[1;32m      6\u001b[0m \u001b[0;31m# Add labels to your graph\u001b[0m\u001b[0;34m\u001b[0m\u001b[0;34m\u001b[0m\u001b[0;34m\u001b[0m\u001b[0m\n\u001b[1;32m      7\u001b[0m \u001b[0mplt\u001b[0m\u001b[0;34m.\u001b[0m\u001b[0mxlabel\u001b[0m\u001b[0;34m(\u001b[0m\u001b[0;34m'Feature Importance Score'\u001b[0m\u001b[0;34m)\u001b[0m\u001b[0;34m\u001b[0m\u001b[0;34m\u001b[0m\u001b[0m\n",
      "\u001b[0;32m~/anaconda3/lib/python3.7/site-packages/seaborn/categorical.py\u001b[0m in \u001b[0;36mbarplot\u001b[0;34m(x, y, hue, data, order, hue_order, estimator, ci, n_boot, units, orient, color, palette, saturation, errcolor, errwidth, capsize, dodge, ax, **kwargs)\u001b[0m\n\u001b[1;32m   3147\u001b[0m                           \u001b[0mestimator\u001b[0m\u001b[0;34m,\u001b[0m \u001b[0mci\u001b[0m\u001b[0;34m,\u001b[0m \u001b[0mn_boot\u001b[0m\u001b[0;34m,\u001b[0m \u001b[0munits\u001b[0m\u001b[0;34m,\u001b[0m\u001b[0;34m\u001b[0m\u001b[0;34m\u001b[0m\u001b[0m\n\u001b[1;32m   3148\u001b[0m                           \u001b[0morient\u001b[0m\u001b[0;34m,\u001b[0m \u001b[0mcolor\u001b[0m\u001b[0;34m,\u001b[0m \u001b[0mpalette\u001b[0m\u001b[0;34m,\u001b[0m \u001b[0msaturation\u001b[0m\u001b[0;34m,\u001b[0m\u001b[0;34m\u001b[0m\u001b[0;34m\u001b[0m\u001b[0m\n\u001b[0;32m-> 3149\u001b[0;31m                           errcolor, errwidth, capsize, dodge)\n\u001b[0m\u001b[1;32m   3150\u001b[0m \u001b[0;34m\u001b[0m\u001b[0m\n\u001b[1;32m   3151\u001b[0m     \u001b[0;32mif\u001b[0m \u001b[0max\u001b[0m \u001b[0;32mis\u001b[0m \u001b[0;32mNone\u001b[0m\u001b[0;34m:\u001b[0m\u001b[0;34m\u001b[0m\u001b[0;34m\u001b[0m\u001b[0m\n",
      "\u001b[0;32m~/anaconda3/lib/python3.7/site-packages/seaborn/categorical.py\u001b[0m in \u001b[0;36m__init__\u001b[0;34m(self, x, y, hue, data, order, hue_order, estimator, ci, n_boot, units, orient, color, palette, saturation, errcolor, errwidth, capsize, dodge)\u001b[0m\n\u001b[1;32m   1605\u001b[0m         \u001b[0;34m\"\"\"Initialize the plotter.\"\"\"\u001b[0m\u001b[0;34m\u001b[0m\u001b[0;34m\u001b[0m\u001b[0m\n\u001b[1;32m   1606\u001b[0m         self.establish_variables(x, y, hue, data, orient,\n\u001b[0;32m-> 1607\u001b[0;31m                                  order, hue_order, units)\n\u001b[0m\u001b[1;32m   1608\u001b[0m         \u001b[0mself\u001b[0m\u001b[0;34m.\u001b[0m\u001b[0mestablish_colors\u001b[0m\u001b[0;34m(\u001b[0m\u001b[0mcolor\u001b[0m\u001b[0;34m,\u001b[0m \u001b[0mpalette\u001b[0m\u001b[0;34m,\u001b[0m \u001b[0msaturation\u001b[0m\u001b[0;34m)\u001b[0m\u001b[0;34m\u001b[0m\u001b[0;34m\u001b[0m\u001b[0m\n\u001b[1;32m   1609\u001b[0m         \u001b[0mself\u001b[0m\u001b[0;34m.\u001b[0m\u001b[0mestimate_statistic\u001b[0m\u001b[0;34m(\u001b[0m\u001b[0mestimator\u001b[0m\u001b[0;34m,\u001b[0m \u001b[0mci\u001b[0m\u001b[0;34m,\u001b[0m \u001b[0mn_boot\u001b[0m\u001b[0;34m)\u001b[0m\u001b[0;34m\u001b[0m\u001b[0;34m\u001b[0m\u001b[0m\n",
      "\u001b[0;32m~/anaconda3/lib/python3.7/site-packages/seaborn/categorical.py\u001b[0m in \u001b[0;36mestablish_variables\u001b[0;34m(self, x, y, hue, data, orient, order, hue_order, units)\u001b[0m\n\u001b[1;32m    156\u001b[0m \u001b[0;34m\u001b[0m\u001b[0m\n\u001b[1;32m    157\u001b[0m             \u001b[0;31m# Figure out the plotting orientation\u001b[0m\u001b[0;34m\u001b[0m\u001b[0;34m\u001b[0m\u001b[0;34m\u001b[0m\u001b[0m\n\u001b[0;32m--> 158\u001b[0;31m             \u001b[0morient\u001b[0m \u001b[0;34m=\u001b[0m \u001b[0mself\u001b[0m\u001b[0;34m.\u001b[0m\u001b[0minfer_orient\u001b[0m\u001b[0;34m(\u001b[0m\u001b[0mx\u001b[0m\u001b[0;34m,\u001b[0m \u001b[0my\u001b[0m\u001b[0;34m,\u001b[0m \u001b[0morient\u001b[0m\u001b[0;34m)\u001b[0m\u001b[0;34m\u001b[0m\u001b[0;34m\u001b[0m\u001b[0m\n\u001b[0m\u001b[1;32m    159\u001b[0m \u001b[0;34m\u001b[0m\u001b[0m\n\u001b[1;32m    160\u001b[0m             \u001b[0;31m# Option 2a:\u001b[0m\u001b[0;34m\u001b[0m\u001b[0;34m\u001b[0m\u001b[0;34m\u001b[0m\u001b[0m\n",
      "\u001b[0;32m~/anaconda3/lib/python3.7/site-packages/seaborn/categorical.py\u001b[0m in \u001b[0;36minfer_orient\u001b[0;34m(self, x, y, orient)\u001b[0m\n\u001b[1;32m    359\u001b[0m         \u001b[0;32melif\u001b[0m \u001b[0mis_not_numeric\u001b[0m\u001b[0;34m(\u001b[0m\u001b[0my\u001b[0m\u001b[0;34m)\u001b[0m\u001b[0;34m:\u001b[0m\u001b[0;34m\u001b[0m\u001b[0;34m\u001b[0m\u001b[0m\n\u001b[1;32m    360\u001b[0m             \u001b[0;32mif\u001b[0m \u001b[0mis_not_numeric\u001b[0m\u001b[0;34m(\u001b[0m\u001b[0mx\u001b[0m\u001b[0;34m)\u001b[0m\u001b[0;34m:\u001b[0m\u001b[0;34m\u001b[0m\u001b[0;34m\u001b[0m\u001b[0m\n\u001b[0;32m--> 361\u001b[0;31m                 \u001b[0;32mraise\u001b[0m \u001b[0mValueError\u001b[0m\u001b[0;34m(\u001b[0m\u001b[0mno_numeric\u001b[0m\u001b[0;34m)\u001b[0m\u001b[0;34m\u001b[0m\u001b[0;34m\u001b[0m\u001b[0m\n\u001b[0m\u001b[1;32m    362\u001b[0m             \u001b[0;32melse\u001b[0m\u001b[0;34m:\u001b[0m\u001b[0;34m\u001b[0m\u001b[0;34m\u001b[0m\u001b[0m\n\u001b[1;32m    363\u001b[0m                 \u001b[0;32mreturn\u001b[0m \u001b[0;34m\"h\"\u001b[0m\u001b[0;34m\u001b[0m\u001b[0;34m\u001b[0m\u001b[0m\n",
      "\u001b[0;31mValueError\u001b[0m: Neither the `x` nor `y` variable appears to be numeric."
     ]
    }
   ],
   "source": [
    "import matplotlib.pyplot as plt\n",
    "import seaborn as sns\n",
    "%matplotlib inline\n",
    "# Creating a bar plot\n",
    "sns.barplot(x=['Marital Status', 'Gender', 'Payment Method', 'Acquisition Channel'], y=feature_imp.index)\n",
    "# Add labels to your graph\n",
    "plt.xlabel('Feature Importance Score')\n",
    "plt.ylabel('Features')\n",
    "plt.title(\"Visualizing Important Features\")\n",
    "plt.legend()\n",
    "plt.show()"
   ]
  },
  {
   "cell_type": "code",
   "execution_count": null,
   "metadata": {},
   "outputs": [],
   "source": []
  }
 ],
 "metadata": {
  "anaconda-cloud": {},
  "kernelspec": {
   "display_name": "Python 3",
   "language": "python",
   "name": "python3"
  },
  "language_info": {
   "codemirror_mode": {
    "name": "ipython",
    "version": 3
   },
   "file_extension": ".py",
   "mimetype": "text/x-python",
   "name": "python",
   "nbconvert_exporter": "python",
   "pygments_lexer": "ipython3",
   "version": "3.7.1"
  }
 },
 "nbformat": 4,
 "nbformat_minor": 2
}
